{
 "cells": [
  {
   "cell_type": "code",
   "execution_count": 1,
   "id": "9f8f78fb",
   "metadata": {},
   "outputs": [],
   "source": [
    "import numpy as np\n",
    "import matplotlib.pyplot as plt"
   ]
  },
  {
   "cell_type": "code",
   "execution_count": 2,
   "id": "ecb99248",
   "metadata": {},
   "outputs": [],
   "source": [
    "data1 = np.genfromtxt(\"../logs/20231013212001_arlog.csv\", delimiter=',', skip_header=1, usecols=(0, 1, 2, 3, 4, 5, 6), dtype=None, encoding='utf-8')\n"
   ]
  },
  {
   "cell_type": "code",
   "execution_count": 3,
   "id": "102b2f5d",
   "metadata": {},
   "outputs": [],
   "source": [
    "data2 = np.genfromtxt(\"../logs/20231013211956_patlog.csv\", delimiter=',', skip_header=1, usecols=(0, 1), dtype=[int, '|U10'], converters={1: lambda x: 'S' if x.strip() == 'Spinning' else 'P'})\n"
   ]
  },
  {
   "cell_type": "code",
   "execution_count": 5,
   "id": "1d780d5b",
   "metadata": {},
   "outputs": [],
   "source": [
    "rostime1 = [row[3] for row in data1]  # Access strings directly\n",
    "rostime2 = [row[0] for row in data2]  # Access strings directly\n"
   ]
  },
  {
   "cell_type": "code",
   "execution_count": 7,
   "id": "2efb338b",
   "metadata": {},
   "outputs": [],
   "source": [
    "# Remove spaces from 'rostime' values\n",
    "rostime1 = [row[3] for row in data1]\n",
    "rostime2 = [str(row[0]).replace(\" \", \"\") for row in data2]\n"
   ]
  },
  {
   "cell_type": "code",
   "execution_count": 8,
   "id": "6a45fb8c",
   "metadata": {},
   "outputs": [],
   "source": [
    "state = [row[6] for row in data1]\n",
    "random_no = [row[5] for row in data1]\n",
    "behave_val = [row[4] for row in data1]\n",
    "behavior = [''] * len(rostime1)  # Ensure behavior list matches the length of rostime1\n",
    "ID = [row[0] for row in data1]"
   ]
  },
  {
   "cell_type": "code",
   "execution_count": 9,
   "id": "d17cf7ed",
   "metadata": {},
   "outputs": [],
   "source": [
    "# Update behavior based on available data\n",
    "for i, row in enumerate(data2):\n",
    "    if len(row) > 1:\n",
    "        if i < len(behavior):\n",
    "            behavior[i] = row[1]"
   ]
  },
  {
   "cell_type": "code",
   "execution_count": 10,
   "id": "246b6478",
   "metadata": {},
   "outputs": [],
   "source": [
    "# Determine which 'Ros Time' array to use based on the longer one\n",
    "if len(rostime1) >= len(rostime2):\n",
    "    rostime = rostime1[:len(rostime2)]\n",
    "else:\n",
    "    rostime = rostime2[:len(rostime1)]"
   ]
  },
  {
   "cell_type": "code",
   "execution_count": 13,
   "id": "1fe1dbb2",
   "metadata": {},
   "outputs": [],
   "source": [
    "# Convert 'rostime' to datetime objects for better x-axis representation\n",
    "import datetime\n",
    "rostime = [datetime.datetime.strptime(''.join(rt.split()), \"%H:%M:%S\") for rt in rostime]\n"
   ]
  },
  {
   "cell_type": "code",
   "execution_count": 14,
   "id": "3c00204f",
   "metadata": {},
   "outputs": [
    {
     "data": {
      "image/png": "[encoded data removed]",
      "text/plain": [
       "<Figure size 720x432 with 1 Axes>"
      ]
     },
     "metadata": {
      "needs_background": "light"
     },
     "output_type": "display_data"
    }
   ],
   "source": [
    "# Create a figure and axes\n",
    "fig, ax1 = plt.subplots(figsize=(10, 6))"
   ]
  },
  {
   "cell_type": "code",
   "execution_count": 16,
   "id": "5a0bd6d8",
   "metadata": {},
   "outputs": [],
   "source": [
    "# Slice the arrays to have the same length (e.g., first 16 elements)\n",
    "rostime = rostime[:16]\n",
    "ID = ID[:16]\n",
    "\n",
    "# Plot the data\n",
    "ax1.plot(rostime, ID, color='black', marker='o', label='ID', zorder=5)\n",
    "for i, txt in enumerate(ID):\n",
    "    ax1.annotate(txt, (rostime[i], ID[i]), textcoords=\"offset points\", xytext=(0, 5), ha='center')\n"
   ]
  },
  {
   "cell_type": "code",
   "execution_count": 18,
   "id": "7a9c107e",
   "metadata": {},
   "outputs": [
    {
     "data": {
      "text/plain": [
       "[Text(1, 1, 'Explore'), Text(1, 2, 'Patrol')]"
      ]
     },
     "execution_count": 18,
     "metadata": {},
     "output_type": "execute_result"
    }
   ],
   "source": [
    "# Slice the arrays to have the same length (e.g., first 16 elements)\n",
    "rostime = rostime[:16]\n",
    "state = state[:16]\n",
    "\n",
    "# Plot the data\n",
    "ax2.plot(rostime, state, color='green', label='State')\n",
    "ax2.set_yticks([1, 2])\n",
    "ax2.set_yticklabels(state_labels[:2])\n"
   ]
  },
  {
   "cell_type": "code",
   "execution_count": 20,
   "id": "cba3ba18",
   "metadata": {},
   "outputs": [],
   "source": [
    "# Plot Behavior on the left-hand side y-axis as dots with \"S\" or \"P\" labels\n",
    "behavior_labels = ['S' if b == 'Spinning' else 'P' for b in behavior]\n",
    "for i in range(min(len(rostime), len(behavior_labels))):\n",
    "    ax1.annotate(behavior_labels[i], (rostime[i], 0), textcoords=\"offset points\", xytext=(0, 5), ha='center', color='red')\n"
   ]
  },
  {
   "cell_type": "code",
   "execution_count": 22,
   "id": "e548b2b6",
   "metadata": {},
   "outputs": [
    {
     "data": {
      "text/plain": [
       "[<matplotlib.lines.Line2D at 0x128fffc40>]"
      ]
     },
     "execution_count": 22,
     "metadata": {},
     "output_type": "execute_result"
    }
   ],
   "source": [
    "# Slice the arrays to have the same length (e.g., first 16 elements)\n",
    "rostime = rostime[:16]\n",
    "random_no = random_no[:16]\n",
    "\n",
    "# Plot the data\n",
    "ax1.plot(rostime, random_no, color='blue', label='Random No')\n"
   ]
  },
  {
   "cell_type": "code",
   "execution_count": 25,
   "id": "0455a53d",
   "metadata": {},
   "outputs": [
    {
     "data": {
      "text/plain": [
       "[<matplotlib.lines.Line2D at 0x1290b2130>]"
      ]
     },
     "execution_count": 25,
     "metadata": {},
     "output_type": "execute_result"
    }
   ],
   "source": [
    "# Slice the arrays to have the same length (e.g., first 16 elements)\n",
    "rostime = rostime[:16]\n",
    "behave_val = behave_val[:16]\n",
    "\n",
    "# Plot the data\n",
    "ax1.plot(rostime, behave_val, color='purple', label='Behave Val')\n"
   ]
  },
  {
   "cell_type": "code",
   "execution_count": 26,
   "id": "231db351",
   "metadata": {},
   "outputs": [
    {
     "data": {
      "text/plain": [
       "Text(0, 0.5, 'State (Patrol/Explore)')"
      ]
     },
     "execution_count": 26,
     "metadata": {},
     "output_type": "execute_result"
    }
   ],
   "source": [
    "# Set the labels for the left and right y-axes\n",
    "ax1.set_ylabel('Random No / Behave Val')\n",
    "ax2.set_ylabel('State (Patrol/Explore)')"
   ]
  },
  {
   "cell_type": "code",
   "execution_count": 27,
   "id": "38e297cc",
   "metadata": {},
   "outputs": [
    {
     "data": {
      "text/plain": [
       "<matplotlib.legend.Legend at 0x126b739a0>"
      ]
     },
     "execution_count": 27,
     "metadata": {},
     "output_type": "execute_result"
    }
   ],
   "source": [
    "# Set the title and legend\n",
    "ax1.set_title('Data Over Time')\n",
    "ax1.legend(loc='upper left')\n",
    "ax2.legend(loc='upper right')\n"
   ]
  },
  {
   "cell_type": "code",
   "execution_count": 28,
   "id": "ef087078",
   "metadata": {},
   "outputs": [
    {
     "data": {
      "image/png": "[encoded data removed]",
      "text/plain": [
       "<Figure size 432x288 with 1 Axes>"
      ]
     },
     "metadata": {
      "needs_background": "light"
     },
     "output_type": "display_data"
    }
   ],
   "source": [
    "# Show the plot\n",
    "plt.xticks(rotation=45)\n",
    "plt.tight_layout()\n",
    "plt.show()"
   ]
  },
  {
   "cell_type": "code",
   "execution_count": null,
   "id": "8b10f352",
   "metadata": {},
   "outputs": [],
   "source": []
  },
  {
   "cell_type": "code",
   "execution_count": null,
   "id": "21e2ed96",
   "metadata": {},
   "outputs": [],
   "source": []
  },
  {
   "cell_type": "code",
   "execution_count": null,
   "id": "5013df1d",
   "metadata": {},
   "outputs": [],
   "source": []
  },
  {
   "cell_type": "code",
   "execution_count": null,
   "id": "8885db80",
   "metadata": {},
   "outputs": [],
   "source": []
  },
  {
   "cell_type": "code",
   "execution_count": null,
   "id": "fa0c0326",
   "metadata": {},
   "outputs": [],
   "source": []
  },
  {
   "cell_type": "code",
   "execution_count": null,
   "id": "48eb3fb0",
   "metadata": {},
   "outputs": [],
   "source": []
  },
  {
   "cell_type": "code",
   "execution_count": null,
   "id": "b45a481c",
   "metadata": {},
   "outputs": [],
   "source": []
  },
  {
   "cell_type": "code",
   "execution_count": null,
   "id": "8180f1d5",
   "metadata": {},
   "outputs": [],
   "source": []
  },
  {
   "cell_type": "code",
   "execution_count": null,
   "id": "99f9a354",
   "metadata": {},
   "outputs": [],
   "source": []
  },
  {
   "cell_type": "code",
   "execution_count": null,
   "id": "2e0b7089",
   "metadata": {},
   "outputs": [],
   "source": []
  },
  {
   "cell_type": "code",
   "execution_count": null,
   "id": "d0e14777",
   "metadata": {},
   "outputs": [],
   "source": []
  },
  {
   "cell_type": "code",
   "execution_count": null,
   "id": "424af555",
   "metadata": {},
   "outputs": [],
   "source": []
  },
  {
   "cell_type": "code",
   "execution_count": null,
   "id": "a0a9e15d",
   "metadata": {},
   "outputs": [],
   "source": []
  },
  {
   "cell_type": "code",
   "execution_count": null,
   "id": "2cff15a4",
   "metadata": {},
   "outputs": [],
   "source": []
  },
  {
   "cell_type": "code",
   "execution_count": null,
   "id": "0076dd76",
   "metadata": {},
   "outputs": [],
   "source": []
  }
 ],
 "metadata": {
  "kernelspec": {
   "display_name": "Python 3 (ipykernel)",
   "language": "python",
   "name": "python3"
  },
  "language_info": {
   "codemirror_mode": {
    "name": "ipython",
    "version": 3
   },
   "file_extension": ".py",
   "mimetype": "text/x-python",
   "name": "python",
   "nbconvert_exporter": "python",
   "pygments_lexer": "ipython3",
   "version": "3.9.12"
  }
 },
 "nbformat": 4,
 "nbformat_minor": 5
}
